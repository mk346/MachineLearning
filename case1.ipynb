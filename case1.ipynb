{
 "cells": [
  {
   "cell_type": "code",
   "execution_count": 1,
   "id": "17e201b4",
   "metadata": {},
   "outputs": [
    {
     "name": "stdout",
     "output_type": "stream",
     "text": [
      "hello\n"
     ]
    }
   ],
   "source": [
    "print(\"hello\")"
   ]
  },
  {
   "cell_type": "code",
   "execution_count": 3,
   "id": "3379bebf",
   "metadata": {},
   "outputs": [],
   "source": [
    "import pandas as pd\n",
    "import numpy as np\n",
    "import matplotlib.pyplot as plt\n",
    "import seaborn as sns"
   ]
  },
  {
   "cell_type": "code",
   "execution_count": 4,
   "id": "2b202bdb",
   "metadata": {},
   "outputs": [],
   "source": [
    "Icecream = pd.read_csv('IceCreamData.csv')"
   ]
  },
  {
   "cell_type": "code",
   "execution_count": 5,
   "id": "743ea490",
   "metadata": {},
   "outputs": [
    {
     "data": {
      "text/html": [
       "<div>\n",
       "<style scoped>\n",
       "    .dataframe tbody tr th:only-of-type {\n",
       "        vertical-align: middle;\n",
       "    }\n",
       "\n",
       "    .dataframe tbody tr th {\n",
       "        vertical-align: top;\n",
       "    }\n",
       "\n",
       "    .dataframe thead th {\n",
       "        text-align: right;\n",
       "    }\n",
       "</style>\n",
       "<table border=\"1\" class=\"dataframe\">\n",
       "  <thead>\n",
       "    <tr style=\"text-align: right;\">\n",
       "      <th></th>\n",
       "      <th>Temperature</th>\n",
       "      <th>Revenue</th>\n",
       "    </tr>\n",
       "  </thead>\n",
       "  <tbody>\n",
       "    <tr>\n",
       "      <th>0</th>\n",
       "      <td>24.566884</td>\n",
       "      <td>534.799028</td>\n",
       "    </tr>\n",
       "    <tr>\n",
       "      <th>1</th>\n",
       "      <td>26.005191</td>\n",
       "      <td>625.190122</td>\n",
       "    </tr>\n",
       "    <tr>\n",
       "      <th>2</th>\n",
       "      <td>27.790554</td>\n",
       "      <td>660.632289</td>\n",
       "    </tr>\n",
       "    <tr>\n",
       "      <th>3</th>\n",
       "      <td>20.595335</td>\n",
       "      <td>487.706960</td>\n",
       "    </tr>\n",
       "    <tr>\n",
       "      <th>4</th>\n",
       "      <td>11.503498</td>\n",
       "      <td>316.240194</td>\n",
       "    </tr>\n",
       "  </tbody>\n",
       "</table>\n",
       "</div>"
      ],
      "text/plain": [
       "   Temperature     Revenue\n",
       "0    24.566884  534.799028\n",
       "1    26.005191  625.190122\n",
       "2    27.790554  660.632289\n",
       "3    20.595335  487.706960\n",
       "4    11.503498  316.240194"
      ]
     },
     "execution_count": 5,
     "metadata": {},
     "output_type": "execute_result"
    }
   ],
   "source": [
    "Icecream.head(5) # visualize the first 5records "
   ]
  },
  {
   "cell_type": "code",
   "execution_count": 6,
   "id": "65ac71b0",
   "metadata": {},
   "outputs": [
    {
     "data": {
      "text/html": [
       "<div>\n",
       "<style scoped>\n",
       "    .dataframe tbody tr th:only-of-type {\n",
       "        vertical-align: middle;\n",
       "    }\n",
       "\n",
       "    .dataframe tbody tr th {\n",
       "        vertical-align: top;\n",
       "    }\n",
       "\n",
       "    .dataframe thead th {\n",
       "        text-align: right;\n",
       "    }\n",
       "</style>\n",
       "<table border=\"1\" class=\"dataframe\">\n",
       "  <thead>\n",
       "    <tr style=\"text-align: right;\">\n",
       "      <th></th>\n",
       "      <th>Temperature</th>\n",
       "      <th>Revenue</th>\n",
       "    </tr>\n",
       "  </thead>\n",
       "  <tbody>\n",
       "    <tr>\n",
       "      <th>0</th>\n",
       "      <td>24.566884</td>\n",
       "      <td>534.799028</td>\n",
       "    </tr>\n",
       "    <tr>\n",
       "      <th>1</th>\n",
       "      <td>26.005191</td>\n",
       "      <td>625.190122</td>\n",
       "    </tr>\n",
       "    <tr>\n",
       "      <th>2</th>\n",
       "      <td>27.790554</td>\n",
       "      <td>660.632289</td>\n",
       "    </tr>\n",
       "    <tr>\n",
       "      <th>3</th>\n",
       "      <td>20.595335</td>\n",
       "      <td>487.706960</td>\n",
       "    </tr>\n",
       "    <tr>\n",
       "      <th>4</th>\n",
       "      <td>11.503498</td>\n",
       "      <td>316.240194</td>\n",
       "    </tr>\n",
       "    <tr>\n",
       "      <th>5</th>\n",
       "      <td>14.352514</td>\n",
       "      <td>367.940744</td>\n",
       "    </tr>\n",
       "    <tr>\n",
       "      <th>6</th>\n",
       "      <td>13.707780</td>\n",
       "      <td>308.894518</td>\n",
       "    </tr>\n",
       "    <tr>\n",
       "      <th>7</th>\n",
       "      <td>30.833985</td>\n",
       "      <td>696.716640</td>\n",
       "    </tr>\n",
       "    <tr>\n",
       "      <th>8</th>\n",
       "      <td>0.976870</td>\n",
       "      <td>55.390338</td>\n",
       "    </tr>\n",
       "    <tr>\n",
       "      <th>9</th>\n",
       "      <td>31.669465</td>\n",
       "      <td>737.800824</td>\n",
       "    </tr>\n",
       "  </tbody>\n",
       "</table>\n",
       "</div>"
      ],
      "text/plain": [
       "   Temperature     Revenue\n",
       "0    24.566884  534.799028\n",
       "1    26.005191  625.190122\n",
       "2    27.790554  660.632289\n",
       "3    20.595335  487.706960\n",
       "4    11.503498  316.240194\n",
       "5    14.352514  367.940744\n",
       "6    13.707780  308.894518\n",
       "7    30.833985  696.716640\n",
       "8     0.976870   55.390338\n",
       "9    31.669465  737.800824"
      ]
     },
     "execution_count": 6,
     "metadata": {},
     "output_type": "execute_result"
    }
   ],
   "source": [
    "Icecream.head(10)"
   ]
  },
  {
   "cell_type": "code",
   "execution_count": 7,
   "id": "8d719206",
   "metadata": {},
   "outputs": [
    {
     "data": {
      "text/html": [
       "<div>\n",
       "<style scoped>\n",
       "    .dataframe tbody tr th:only-of-type {\n",
       "        vertical-align: middle;\n",
       "    }\n",
       "\n",
       "    .dataframe tbody tr th {\n",
       "        vertical-align: top;\n",
       "    }\n",
       "\n",
       "    .dataframe thead th {\n",
       "        text-align: right;\n",
       "    }\n",
       "</style>\n",
       "<table border=\"1\" class=\"dataframe\">\n",
       "  <thead>\n",
       "    <tr style=\"text-align: right;\">\n",
       "      <th></th>\n",
       "      <th>Temperature</th>\n",
       "      <th>Revenue</th>\n",
       "    </tr>\n",
       "  </thead>\n",
       "  <tbody>\n",
       "    <tr>\n",
       "      <th>495</th>\n",
       "      <td>22.274899</td>\n",
       "      <td>524.746364</td>\n",
       "    </tr>\n",
       "    <tr>\n",
       "      <th>496</th>\n",
       "      <td>32.893092</td>\n",
       "      <td>755.818399</td>\n",
       "    </tr>\n",
       "    <tr>\n",
       "      <th>497</th>\n",
       "      <td>12.588157</td>\n",
       "      <td>306.090719</td>\n",
       "    </tr>\n",
       "    <tr>\n",
       "      <th>498</th>\n",
       "      <td>22.362402</td>\n",
       "      <td>566.217304</td>\n",
       "    </tr>\n",
       "    <tr>\n",
       "      <th>499</th>\n",
       "      <td>28.957736</td>\n",
       "      <td>655.660388</td>\n",
       "    </tr>\n",
       "  </tbody>\n",
       "</table>\n",
       "</div>"
      ],
      "text/plain": [
       "     Temperature     Revenue\n",
       "495    22.274899  524.746364\n",
       "496    32.893092  755.818399\n",
       "497    12.588157  306.090719\n",
       "498    22.362402  566.217304\n",
       "499    28.957736  655.660388"
      ]
     },
     "execution_count": 7,
     "metadata": {},
     "output_type": "execute_result"
    }
   ],
   "source": [
    "Icecream.tail(5) # visualize the last 5 records"
   ]
  },
  {
   "cell_type": "code",
   "execution_count": 9,
   "id": "8c84daf9",
   "metadata": {},
   "outputs": [
    {
     "data": {
      "text/html": [
       "<div>\n",
       "<style scoped>\n",
       "    .dataframe tbody tr th:only-of-type {\n",
       "        vertical-align: middle;\n",
       "    }\n",
       "\n",
       "    .dataframe tbody tr th {\n",
       "        vertical-align: top;\n",
       "    }\n",
       "\n",
       "    .dataframe thead th {\n",
       "        text-align: right;\n",
       "    }\n",
       "</style>\n",
       "<table border=\"1\" class=\"dataframe\">\n",
       "  <thead>\n",
       "    <tr style=\"text-align: right;\">\n",
       "      <th></th>\n",
       "      <th>Temperature</th>\n",
       "      <th>Revenue</th>\n",
       "    </tr>\n",
       "  </thead>\n",
       "  <tbody>\n",
       "    <tr>\n",
       "      <th>0</th>\n",
       "      <td>24.566884</td>\n",
       "      <td>534.799028</td>\n",
       "    </tr>\n",
       "    <tr>\n",
       "      <th>1</th>\n",
       "      <td>26.005191</td>\n",
       "      <td>625.190122</td>\n",
       "    </tr>\n",
       "    <tr>\n",
       "      <th>2</th>\n",
       "      <td>27.790554</td>\n",
       "      <td>660.632289</td>\n",
       "    </tr>\n",
       "    <tr>\n",
       "      <th>3</th>\n",
       "      <td>20.595335</td>\n",
       "      <td>487.706960</td>\n",
       "    </tr>\n",
       "    <tr>\n",
       "      <th>4</th>\n",
       "      <td>11.503498</td>\n",
       "      <td>316.240194</td>\n",
       "    </tr>\n",
       "    <tr>\n",
       "      <th>...</th>\n",
       "      <td>...</td>\n",
       "      <td>...</td>\n",
       "    </tr>\n",
       "    <tr>\n",
       "      <th>495</th>\n",
       "      <td>22.274899</td>\n",
       "      <td>524.746364</td>\n",
       "    </tr>\n",
       "    <tr>\n",
       "      <th>496</th>\n",
       "      <td>32.893092</td>\n",
       "      <td>755.818399</td>\n",
       "    </tr>\n",
       "    <tr>\n",
       "      <th>497</th>\n",
       "      <td>12.588157</td>\n",
       "      <td>306.090719</td>\n",
       "    </tr>\n",
       "    <tr>\n",
       "      <th>498</th>\n",
       "      <td>22.362402</td>\n",
       "      <td>566.217304</td>\n",
       "    </tr>\n",
       "    <tr>\n",
       "      <th>499</th>\n",
       "      <td>28.957736</td>\n",
       "      <td>655.660388</td>\n",
       "    </tr>\n",
       "  </tbody>\n",
       "</table>\n",
       "<p>500 rows × 2 columns</p>\n",
       "</div>"
      ],
      "text/plain": [
       "     Temperature     Revenue\n",
       "0      24.566884  534.799028\n",
       "1      26.005191  625.190122\n",
       "2      27.790554  660.632289\n",
       "3      20.595335  487.706960\n",
       "4      11.503498  316.240194\n",
       "..           ...         ...\n",
       "495    22.274899  524.746364\n",
       "496    32.893092  755.818399\n",
       "497    12.588157  306.090719\n",
       "498    22.362402  566.217304\n",
       "499    28.957736  655.660388\n",
       "\n",
       "[500 rows x 2 columns]"
      ]
     },
     "execution_count": 9,
     "metadata": {},
     "output_type": "execute_result"
    }
   ],
   "source": [
    "Icecream # visualize the entire data"
   ]
  },
  {
   "cell_type": "code",
   "execution_count": 10,
   "id": "d6c23ae0",
   "metadata": {},
   "outputs": [
    {
     "data": {
      "text/html": [
       "<div>\n",
       "<style scoped>\n",
       "    .dataframe tbody tr th:only-of-type {\n",
       "        vertical-align: middle;\n",
       "    }\n",
       "\n",
       "    .dataframe tbody tr th {\n",
       "        vertical-align: top;\n",
       "    }\n",
       "\n",
       "    .dataframe thead th {\n",
       "        text-align: right;\n",
       "    }\n",
       "</style>\n",
       "<table border=\"1\" class=\"dataframe\">\n",
       "  <thead>\n",
       "    <tr style=\"text-align: right;\">\n",
       "      <th></th>\n",
       "      <th>Temperature</th>\n",
       "      <th>Revenue</th>\n",
       "    </tr>\n",
       "  </thead>\n",
       "  <tbody>\n",
       "    <tr>\n",
       "      <th>count</th>\n",
       "      <td>500.000000</td>\n",
       "      <td>500.000000</td>\n",
       "    </tr>\n",
       "    <tr>\n",
       "      <th>mean</th>\n",
       "      <td>22.232225</td>\n",
       "      <td>521.570777</td>\n",
       "    </tr>\n",
       "    <tr>\n",
       "      <th>std</th>\n",
       "      <td>8.096388</td>\n",
       "      <td>175.404751</td>\n",
       "    </tr>\n",
       "    <tr>\n",
       "      <th>min</th>\n",
       "      <td>0.000000</td>\n",
       "      <td>10.000000</td>\n",
       "    </tr>\n",
       "    <tr>\n",
       "      <th>25%</th>\n",
       "      <td>17.122258</td>\n",
       "      <td>405.558681</td>\n",
       "    </tr>\n",
       "    <tr>\n",
       "      <th>50%</th>\n",
       "      <td>22.392791</td>\n",
       "      <td>529.368565</td>\n",
       "    </tr>\n",
       "    <tr>\n",
       "      <th>75%</th>\n",
       "      <td>27.740674</td>\n",
       "      <td>642.257922</td>\n",
       "    </tr>\n",
       "    <tr>\n",
       "      <th>max</th>\n",
       "      <td>45.000000</td>\n",
       "      <td>1000.000000</td>\n",
       "    </tr>\n",
       "  </tbody>\n",
       "</table>\n",
       "</div>"
      ],
      "text/plain": [
       "       Temperature      Revenue\n",
       "count   500.000000   500.000000\n",
       "mean     22.232225   521.570777\n",
       "std       8.096388   175.404751\n",
       "min       0.000000    10.000000\n",
       "25%      17.122258   405.558681\n",
       "50%      22.392791   529.368565\n",
       "75%      27.740674   642.257922\n",
       "max      45.000000  1000.000000"
      ]
     },
     "execution_count": 10,
     "metadata": {},
     "output_type": "execute_result"
    }
   ],
   "source": [
    "Icecream.describe() # returns the statistical summary"
   ]
  },
  {
   "cell_type": "code",
   "execution_count": 13,
   "id": "905df63a",
   "metadata": {},
   "outputs": [
    {
     "name": "stdout",
     "output_type": "stream",
     "text": [
      "<class 'pandas.core.frame.DataFrame'>\n",
      "RangeIndex: 500 entries, 0 to 499\n",
      "Data columns (total 2 columns):\n",
      " #   Column       Non-Null Count  Dtype  \n",
      "---  ------       --------------  -----  \n",
      " 0   Temperature  500 non-null    float64\n",
      " 1   Revenue      500 non-null    float64\n",
      "dtypes: float64(2)\n",
      "memory usage: 7.9 KB\n"
     ]
    }
   ],
   "source": [
    "Icecream.info() # returns data visualization"
   ]
  },
  {
   "cell_type": "code",
   "execution_count": 15,
   "id": "555be188",
   "metadata": {},
   "outputs": [
    {
     "data": {
      "text/plain": [
       "<seaborn.axisgrid.JointGrid at 0x1d96b39d160>"
      ]
     },
     "execution_count": 15,
     "metadata": {},
     "output_type": "execute_result"
    },
    {
     "data": {
      "image/png": "[encoded data removed]",
      "text/plain": [
       "<Figure size 432x432 with 3 Axes>"
      ]
     },
     "metadata": {
      "needs_background": "light"
     },
     "output_type": "display_data"
    }
   ],
   "source": [
    "# Data ploting usins sns\n",
    "sns.jointplot(x = 'Temperature', y = 'Revenue', data = Icecream, color = 'blue')"
   ]
  },
  {
   "cell_type": "code",
   "execution_count": 16,
   "id": "20103e8d",
   "metadata": {},
   "outputs": [
    {
     "name": "stdout",
     "output_type": "stream",
     "text": [
      "     Temperature      Revenue\n",
      "0      24.566884   534.799028\n",
      "1      26.005191   625.190122\n",
      "2      27.790554   660.632289\n",
      "3      20.595335   487.706960\n",
      "4      11.503498   316.240194\n",
      "5      14.352514   367.940744\n",
      "6      13.707780   308.894518\n",
      "7      30.833985   696.716640\n",
      "8       0.976870    55.390338\n",
      "9      31.669465   737.800824\n",
      "10     11.455253   325.968408\n",
      "11      3.664670    71.160153\n",
      "12     18.811824   467.446707\n",
      "13     13.624509   289.540934\n",
      "14     39.539909   905.477604\n",
      "15     18.483141   469.909033\n",
      "16     25.935375   648.209998\n",
      "17     42.515280   921.508275\n",
      "18     29.589481   649.561175\n",
      "19     21.775948   534.622865\n",
      "20     25.457836   612.153949\n",
      "21     15.214569   353.325633\n",
      "22     22.619316   524.236115\n",
      "23     16.258721   374.231135\n",
      "24     23.881725   523.124547\n",
      "25     18.978300   473.604335\n",
      "26     15.661464   402.455320\n",
      "27     29.185045   679.317791\n",
      "28     19.024611   517.534028\n",
      "29     35.120151   809.672053\n",
      "30     24.183937   528.380417\n",
      "31     15.231190   356.098007\n",
      "32      8.790953   237.763911\n",
      "33     18.233228   418.137279\n",
      "34     35.628925   809.463411\n",
      "35     37.057542   870.765916\n",
      "36     22.284550   550.278516\n",
      "37     17.517074   405.661446\n",
      "38     31.737920   740.935685\n",
      "39     17.049738   501.732990\n",
      "40     23.003489   539.688006\n",
      "41      8.755554   242.236208\n",
      "42     18.775358   421.621505\n",
      "43     14.109661   358.002849\n",
      "44     18.633913   467.631063\n",
      "45     15.676487   396.935648\n",
      "46     20.947913   500.925065\n",
      "47     30.635307   651.861536\n",
      "48     20.473594   451.450784\n",
      "49     31.228988   697.833986\n",
      "50      6.393835   190.710941\n",
      "51     27.185810   621.189730\n",
      "52     28.633733   666.136835\n",
      "53     27.999222   628.453211\n",
      "54     10.326389   219.303993\n",
      "55     27.312811   623.598861\n",
      "56     33.235672   749.367154\n",
      "57     36.569115   827.684831\n",
      "58     12.462937   303.734381\n",
      "59     14.379697   351.288869\n",
      "60     16.302555   381.564135\n",
      "61     11.569644   321.848273\n",
      "62     33.551419   774.108081\n",
      "63      3.986523   131.657017\n",
      "64     20.511637   498.757050\n",
      "65      6.542514   195.735722\n",
      "66     19.817539   496.011295\n",
      "67     11.694538   284.772789\n",
      "68     21.488177   483.489769\n",
      "69     18.773532   430.343903\n",
      "70     12.688430   276.787086\n",
      "71     27.887111   627.291295\n",
      "72     26.956720   643.648601\n",
      "73     27.375401   623.248701\n",
      "74     24.101616   586.150568\n",
      "75     28.790101   653.986736\n",
      "76     40.473989   918.391232\n",
      "77     25.545966   591.173390\n",
      "78     28.701276   651.186242\n",
      "79     29.463786   682.752869\n",
      "80     16.020975   372.990606\n",
      "81     14.739551   381.803014\n",
      "82     22.171199   515.459102\n",
      "83     29.035739   685.362388\n",
      "84     29.209715   654.747461\n",
      "85     16.364945   406.579249\n",
      "86     27.780500   643.944327\n",
      "87     13.330606   344.688765\n",
      "88     29.305039   642.227291\n",
      "89     14.384083   361.119144\n",
      "90     30.427792   704.281439\n",
      "91      9.073838   222.872317\n",
      "92     23.070616   543.599593\n",
      "93      8.586948   221.223291\n",
      "94     12.352081   337.119025\n",
      "95      9.018860   212.591740\n",
      "96     20.265012   474.749392\n",
      "97     19.363153   460.402500\n",
      "98     14.685944   343.362905\n",
      "99      9.954357   283.834327\n",
      "100    19.977467   468.975103\n",
      "101    32.004168   711.174065\n",
      "102    14.287196   322.592741\n",
      "103    17.658502   401.433018\n",
      "104    26.595054   627.901841\n",
      "105    17.262181   415.817674\n",
      "106    23.761436   553.445291\n",
      "107    15.588061   362.515216\n",
      "108    28.436567   643.788331\n",
      "109    27.727399   651.504304\n",
      "110    25.419302   603.037118\n",
      "111    18.475034   427.211360\n",
      "112    24.243113   565.875000\n",
      "113    31.668485   733.215828\n",
      "114    17.690032   385.672501\n",
      "115    31.891468   689.930778\n",
      "116    25.925171   572.081292\n",
      "117    29.312013   719.471701\n",
      "118    11.059097   306.749930\n",
      "119    25.496624   596.236690\n",
      "120    22.940317   540.798122\n",
      "121    12.901773   341.859353\n",
      "122    28.262831   655.433979\n",
      "123    30.562661   702.901717\n",
      "124    12.571514   319.349462\n",
      "125    19.059287   450.473207\n",
      "126    15.992347   382.073954\n",
      "127    26.187970   674.150644\n",
      "128    31.412629   731.598223\n",
      "129    32.297331   751.054570\n",
      "130    21.696783   496.011917\n",
      "131    20.475023   417.354839\n",
      "132    19.433268   448.471335\n",
      "133    20.129550   477.295054\n",
      "134     6.093897   158.849806\n",
      "135    22.841970   516.548601\n",
      "136    24.585908   599.364914\n",
      "137    28.547987   656.636523\n",
      "138    19.779369   507.356810\n",
      "139    12.450833   279.866148\n",
      "140    36.702572   841.171427\n",
      "141    19.622659   483.333078\n",
      "142    32.409242   739.387272\n",
      "143    19.267785   486.474985\n",
      "144    19.728077   456.524341\n",
      "145     8.638076   241.278548\n",
      "146    29.430578   618.235765\n",
      "147    19.251654   446.946651\n",
      "148    24.615239   603.091382\n",
      "149    12.442650   274.065619\n",
      "150    24.548557   531.742485\n",
      "151    12.209684   297.499120\n",
      "152    12.265884   319.402903\n",
      "153    19.754708   493.710333\n",
      "154    23.349034   586.138767\n",
      "155    21.144047   497.752318\n",
      "156    18.880356   476.794525\n",
      "157    28.271765   625.804642\n",
      "158    16.406021   390.403349\n",
      "159    28.993737   675.828916\n",
      "160    10.245058   273.073342\n",
      "161    11.077843   280.518467\n",
      "162    25.499684   583.084449\n",
      "163    27.931348   648.554644\n",
      "164    28.459543   726.233771\n",
      "165    13.301796   335.815687\n",
      "166    25.995993   570.577875\n",
      "167    32.805033   685.654655\n",
      "168    32.716381   775.722858\n",
      "169    32.107080   773.924755\n",
      "170    24.778675   540.977511\n",
      "171    15.029112   366.247714\n",
      "172    23.424647   539.527740\n",
      "173    35.217240   809.777726\n",
      "174    16.379573   376.554472\n",
      "175    20.556679   477.841719\n",
      "176    21.322392   520.470310\n",
      "177    26.943638   654.197406\n",
      "178    22.634735   518.216105\n",
      "179    33.250899   782.012550\n",
      "180     8.991760   250.131728\n",
      "181    26.874953   634.584751\n",
      "182    21.358024   488.170809\n",
      "183    22.009874   520.853456\n",
      "184    29.129128   652.005408\n",
      "185    16.191298   383.956240\n",
      "186    35.359761   796.517685\n",
      "187    11.187757   293.926393\n",
      "188    16.555843   414.423028\n",
      "189    30.330332   691.958006\n",
      "190    12.900666   339.109583\n",
      "191    19.814638   471.701557\n",
      "192    20.934608   499.458343\n",
      "193    23.591028   542.608070\n",
      "194    16.557948   401.924792\n",
      "195    30.666596   680.027121\n",
      "196     9.812510   258.286810\n",
      "197    31.579989   715.124695\n",
      "198    25.422165   608.936345\n",
      "199    25.241148   574.710649\n",
      "200    26.873586   615.926650\n",
      "201    21.424558   533.324324\n",
      "202    23.963880   578.360435\n",
      "203    10.447126   278.309844\n",
      "204     5.822332   186.476487\n",
      "205    16.145824   395.273750\n",
      "206    23.959312   537.113833\n",
      "207     9.782381   228.901030\n",
      "208    23.975932   603.232942\n",
      "209    10.096645   272.857021\n",
      "210    22.387604   493.115468\n",
      "211    27.322323   612.803770\n",
      "212    20.247346   437.251993\n",
      "213    23.153002   506.493748\n",
      "214    15.753951   409.493848\n",
      "215    27.572960   562.792463\n",
      "216    18.776830   402.398461\n",
      "217    22.653136   532.054020\n",
      "218    17.993020   413.914067\n",
      "219    13.112452   332.150105\n",
      "220    24.802577   563.301280\n",
      "221    18.602750   472.549343\n",
      "222    25.865943   596.984241\n",
      "223    26.250746   596.889105\n",
      "224    13.364313   268.929179\n",
      "225    21.540459   528.116240\n",
      "226    27.128129   627.650834\n",
      "227    26.944123   618.172091\n",
      "228    38.146333   850.246982\n",
      "229     4.236465   118.812150\n",
      "230     9.403479   278.062759\n",
      "231    20.153345   449.112869\n",
      "232    19.721331   448.930443\n",
      "233    19.194951   463.065614\n",
      "234    19.172045   474.832244\n",
      "235    36.116561   824.954357\n",
      "236    23.410861   553.119651\n",
      "237    29.919309   696.640178\n",
      "238    32.004365   675.807151\n",
      "239    29.768223   695.851298\n",
      "240    11.132706   288.158145\n",
      "241    23.385145   506.432135\n",
      "242    27.705059   618.457277\n",
      "243    15.047923   367.052376\n",
      "244     6.352459   191.623312\n",
      "245    14.263541   334.433720\n",
      "246    25.422947   583.759781\n",
      "247    24.727154   538.179684\n",
      "248    16.300125   394.168620\n",
      "249    18.148952   473.568112\n",
      "250    18.578119   427.138369\n",
      "251    32.334808   747.963270\n",
      "252     7.561125   212.483559\n",
      "253    31.471224   691.516541\n",
      "254    28.335363   632.901914\n",
      "255    17.636937   448.549961\n",
      "256    21.703953   521.672804\n",
      "257    18.462907   437.828710\n",
      "258    32.479794   706.724604\n",
      "259    17.360732   405.250387\n",
      "260    21.007045   503.084268\n",
      "261    23.577113   570.990932\n",
      "262    30.762740   706.364904\n",
      "263    22.678560   543.985058\n",
      "264    28.855191   641.025389\n",
      "265     9.651495   274.678921\n",
      "266    18.506231   420.966453\n",
      "267     5.338413   145.625302\n",
      "268    35.458136   828.296077\n",
      "269    24.778199   594.804871\n",
      "270    24.628611   603.305339\n",
      "271    28.491764   651.486741\n",
      "272    24.949715   607.542148\n",
      "273    25.448240   625.846421\n",
      "274    22.248739   535.866729\n",
      "275    24.761876   530.748225\n",
      "276    22.448034   535.708920\n",
      "277    35.033456   781.983795\n",
      "278    33.744209   797.566536\n",
      "279    22.526749   521.267379\n",
      "280    28.464933   607.839194\n",
      "281    23.497532   534.364539\n",
      "282    26.078405   599.278277\n",
      "283    28.865589   662.558990\n",
      "284    22.146317   512.588107\n",
      "285    26.337052   574.423310\n",
      "286    25.002380   550.701404\n",
      "287    26.456051   554.742974\n",
      "288    22.189516   496.461363\n",
      "289    15.521162   350.629036\n",
      "290    17.656839   409.402802\n",
      "291    28.729915   631.318237\n",
      "292    27.529232   661.467519\n",
      "293    27.188517   642.349814\n",
      "294    10.403423   321.750034\n",
      "295    17.588372   412.065001\n",
      "296    24.521847   538.312890\n",
      "297    37.998635   857.526641\n",
      "298    16.954778   425.265596\n",
      "299     7.745286   198.121563\n",
      "300     5.858454   170.237756\n",
      "301    26.859723   599.116360\n",
      "302    24.493477   558.636932\n",
      "303    21.902519   550.441272\n",
      "304    30.028207   714.560056\n",
      "305    21.281916   526.700861\n",
      "306    32.464971   759.377432\n",
      "307    17.090645   441.508733\n",
      "308    33.314998   756.037702\n",
      "309    23.412548   542.839106\n",
      "310    18.977991   454.189267\n",
      "311    12.270967   335.156856\n",
      "312    25.191425   575.176896\n",
      "313    27.068607   594.651009\n",
      "314    25.725470   621.969209\n",
      "315    22.311079   520.392405\n",
      "316    25.116070   587.221246\n",
      "317    22.152589   537.766112\n",
      "318    28.298690   639.538012\n",
      "319    21.712005   467.402365\n",
      "320    15.118197   374.955702\n",
      "321    25.374109   604.626673\n",
      "322    18.439982   463.480508\n",
      "323    22.870562   550.055216\n",
      "324    14.361424   315.646581\n",
      "325     7.261348   223.435016\n",
      "326    25.227774   563.250987\n",
      "327    20.971153   489.315235\n",
      "328    19.775149   458.860905\n",
      "329    41.924446   965.493040\n",
      "330    28.649192   689.851691\n",
      "331    29.241752   678.751388\n",
      "332    15.843022   379.564268\n",
      "333    20.898716   508.720471\n",
      "334    30.456740   684.803070\n",
      "335    24.818754   598.676197\n",
      "336    19.849241   416.848618\n",
      "337    22.118706   571.764273\n",
      "338    34.061673   771.789537\n",
      "339     9.557276   235.364643\n",
      "340    25.551200   579.307388\n",
      "341    19.066591   406.516091\n",
      "342    23.087664   536.208182\n",
      "343     8.033153   249.884252\n",
      "344    29.707024   702.994011\n",
      "345    12.189418   335.770416\n",
      "346    35.094796   807.541287\n",
      "347    24.960446   564.310532\n",
      "348    38.185199   856.303304\n",
      "349    18.985275   482.571988\n",
      "350    18.708476   436.951311\n",
      "351     7.223377   216.183462\n",
      "352    12.704718   295.339699\n",
      "353    24.528853   594.110352\n",
      "354    39.764129   935.717291\n",
      "355    30.247248   648.453609\n",
      "356    24.472432   596.876750\n",
      "357    20.244150   498.252146\n",
      "358    20.226420   475.538209\n",
      "359    14.896972   384.699415\n",
      "360    28.787436   633.504009\n",
      "361    29.704183   659.873287\n",
      "362    26.369747   609.417479\n",
      "363     6.775206   199.555294\n",
      "364    23.246717   555.245217\n",
      "365    24.308296   594.311675\n",
      "366    25.717963   572.537048\n",
      "367    21.684426   478.598509\n",
      "368    26.191668   563.381633\n",
      "369    21.601892   545.903929\n",
      "370    18.883719   444.826802\n",
      "371     0.267028    32.546619\n",
      "372    19.617875   506.222379\n",
      "373    20.103900   491.430500\n",
      "374    23.984641   559.135869\n",
      "375    29.251123   697.147473\n",
      "376    34.860701   798.059718\n",
      "377    11.177152   278.731962\n",
      "378    26.126241   594.872470\n",
      "379    39.859396   875.019348\n",
      "380    20.411031   513.804382\n",
      "381    17.871199   440.677829\n",
      "382    18.346819   410.860905\n",
      "383     9.900293   256.772593\n",
      "384    25.056281   583.855231\n",
      "385    12.084601   278.418265\n",
      "386    36.997084   851.343096\n",
      "387    14.731824   322.983977\n",
      "388     7.107491   221.400252\n",
      "389    38.096609   819.117588\n",
      "390    26.923606   644.488633\n",
      "391    12.433140   283.679657\n",
      "392    10.119737   276.373374\n",
      "393    17.574235   402.793174\n",
      "394    12.062475   300.932273\n",
      "395    30.407615   690.789296\n",
      "396     7.335445   192.341996\n",
      "397    22.632977   546.693858\n",
      "398    28.046404   665.672676\n",
      "399    33.514540   750.444733\n",
      "400    24.240372   569.618756\n",
      "401    38.628862   916.648613\n",
      "402     0.000000    10.000000\n",
      "403    24.349104   572.672047\n",
      "404    26.168859   658.600456\n",
      "405     5.307507   242.509855\n",
      "406    17.997015   441.002944\n",
      "407    30.965087   702.623614\n",
      "408    29.718516   643.090944\n",
      "409    32.649936   818.135393\n",
      "410    21.129126   493.226636\n",
      "411    18.551640   443.113603\n",
      "412    14.551212   323.944672\n",
      "413    41.766589   969.291630\n",
      "414    27.117739   658.593732\n",
      "415    20.016384   477.315188\n",
      "416    20.563015   425.012018\n",
      "417    27.516646   649.729072\n",
      "418    30.228104   679.712058\n",
      "419    21.679897   505.743867\n",
      "420    20.050186   473.499631\n",
      "421    17.299204   405.915159\n",
      "422    17.199430   428.854356\n",
      "423    35.444546   800.202494\n",
      "424    19.113653   445.772400\n",
      "425    18.952521   450.708589\n",
      "426    26.122138   617.100723\n",
      "427    19.982868   541.293663\n",
      "428    27.721440   654.894955\n",
      "429    21.026398   521.775445\n",
      "430    25.380437   603.324631\n",
      "431    24.113597   588.527551\n",
      "432    27.599066   634.121978\n",
      "433     8.756004   246.787161\n",
      "434    27.541961   640.177059\n",
      "435    15.916678   381.043377\n",
      "436    17.188948   390.879119\n",
      "437    28.793159   654.129377\n",
      "438    17.132795   412.082357\n",
      "439     8.794303   264.123914\n",
      "440    31.030333   684.158444\n",
      "441    19.202970   459.735350\n",
      "442    27.129412   615.175384\n",
      "443    30.081089   698.971806\n",
      "444    45.000000  1000.000000\n",
      "445    18.908489   449.813300\n",
      "446    15.102922   322.888783\n",
      "447    21.897433   493.420219\n",
      "448    29.508195   629.893792\n",
      "449    19.278672   452.626317\n",
      "450    29.879973   683.544781\n",
      "451    21.610644   537.664801\n",
      "452    24.988519   608.629992\n",
      "453    31.160030   746.946389\n",
      "454    34.678046   756.962562\n",
      "455    20.900575   491.230603\n",
      "456    37.127070   892.947720\n",
      "457    26.360521   646.266946\n",
      "458    35.331208   804.260025\n",
      "459    24.484909   526.547065\n",
      "460    38.668202   891.413646\n",
      "461    28.900192   636.298374\n",
      "462    12.123014   297.025414\n",
      "463    11.595103   257.078777\n",
      "464    17.455162   391.715299\n",
      "465    20.896619   494.627437\n",
      "466    40.303768   926.067153\n",
      "467    26.530219   612.243721\n",
      "468    39.513155   898.805423\n",
      "469    22.397977   489.569090\n",
      "470     9.309346   291.723040\n",
      "471    19.494743   429.435702\n",
      "472    22.225122   500.065779\n",
      "473    18.887162   475.213354\n",
      "474    21.752092   530.356713\n",
      "475    18.159217   453.785607\n",
      "476    14.866103   296.906532\n",
      "477    28.829759   682.808566\n",
      "478    25.333420   581.262016\n",
      "479    18.508360   432.819795\n",
      "480    22.482798   507.900282\n",
      "481    30.085190   691.855484\n",
      "482    16.997889   448.325981\n",
      "483    27.281064   612.241963\n",
      "484     4.865874   188.151331\n",
      "485    23.407257   501.345330\n",
      "486    12.301615   333.334258\n",
      "487    32.632858   793.079011\n",
      "488    16.703852   379.318226\n",
      "489    26.964217   581.074005\n",
      "490    23.824922   584.399945\n",
      "491    34.472169   809.352519\n",
      "492    23.056214   552.819351\n",
      "493    14.931506   377.430928\n",
      "494    25.112066   571.434257\n",
      "495    22.274899   524.746364\n",
      "496    32.893092   755.818399\n",
      "497    12.588157   306.090719\n",
      "498    22.362402   566.217304\n",
      "499    28.957736   655.660388\n"
     ]
    }
   ],
   "source": [
    "print(Icecream.to_string())"
   ]
  },
  {
   "cell_type": "code",
   "execution_count": 17,
   "id": "5ac718b8",
   "metadata": {},
   "outputs": [
    {
     "data": {
      "text/plain": [
       "<seaborn.axisgrid.PairGrid at 0x1d96816e7f0>"
      ]
     },
     "execution_count": 17,
     "metadata": {},
     "output_type": "execute_result"
    },
    {
     "data": {
      "image/png": "[encoded data removed]",
      "text/plain": [
       "<Figure size 360x360 with 6 Axes>"
      ]
     },
     "metadata": {
      "needs_background": "light"
     },
     "output_type": "display_data"
    }
   ],
   "source": [
    "sns.pairplot(Icecream)"
   ]
  },
  {
   "cell_type": "code",
   "execution_count": 19,
   "id": "97024d96",
   "metadata": {},
   "outputs": [
    {
     "data": {
      "text/plain": [
       "<seaborn.axisgrid.FacetGrid at 0x1d96b7f8dc0>"
      ]
     },
     "execution_count": 19,
     "metadata": {},
     "output_type": "execute_result"
    },
    {
     "data": {
      "image/png": "[encoded data removed]",
      "text/plain": [
       "<Figure size 360x360 with 1 Axes>"
      ]
     },
     "metadata": {
      "needs_background": "light"
     },
     "output_type": "display_data"
    }
   ],
   "source": [
    "sns.lmplot(x = 'Temperature', y ='Revenue', data = Icecream)"
   ]
  },
  {
   "cell_type": "code",
   "execution_count": 23,
   "id": "210b2198",
   "metadata": {},
   "outputs": [],
   "source": [
    "X = [['Temperature']]"
   ]
  },
  {
   "cell_type": "code",
   "execution_count": 24,
   "id": "657cda04",
   "metadata": {},
   "outputs": [
    {
     "data": {
      "text/plain": [
       "[['Temperature']]"
      ]
     },
     "execution_count": 24,
     "metadata": {},
     "output_type": "execute_result"
    }
   ],
   "source": [
    "X"
   ]
  },
  {
   "cell_type": "code",
   "execution_count": 25,
   "id": "431a8fa0",
   "metadata": {},
   "outputs": [],
   "source": [
    "X = Icecream[['Temperature']]"
   ]
  },
  {
   "cell_type": "code",
   "execution_count": 26,
   "id": "28e99b73",
   "metadata": {},
   "outputs": [
    {
     "data": {
      "text/html": [
       "<div>\n",
       "<style scoped>\n",
       "    .dataframe tbody tr th:only-of-type {\n",
       "        vertical-align: middle;\n",
       "    }\n",
       "\n",
       "    .dataframe tbody tr th {\n",
       "        vertical-align: top;\n",
       "    }\n",
       "\n",
       "    .dataframe thead th {\n",
       "        text-align: right;\n",
       "    }\n",
       "</style>\n",
       "<table border=\"1\" class=\"dataframe\">\n",
       "  <thead>\n",
       "    <tr style=\"text-align: right;\">\n",
       "      <th></th>\n",
       "      <th>Temperature</th>\n",
       "    </tr>\n",
       "  </thead>\n",
       "  <tbody>\n",
       "    <tr>\n",
       "      <th>0</th>\n",
       "      <td>24.566884</td>\n",
       "    </tr>\n",
       "    <tr>\n",
       "      <th>1</th>\n",
       "      <td>26.005191</td>\n",
       "    </tr>\n",
       "    <tr>\n",
       "      <th>2</th>\n",
       "      <td>27.790554</td>\n",
       "    </tr>\n",
       "    <tr>\n",
       "      <th>3</th>\n",
       "      <td>20.595335</td>\n",
       "    </tr>\n",
       "    <tr>\n",
       "      <th>4</th>\n",
       "      <td>11.503498</td>\n",
       "    </tr>\n",
       "    <tr>\n",
       "      <th>...</th>\n",
       "      <td>...</td>\n",
       "    </tr>\n",
       "    <tr>\n",
       "      <th>495</th>\n",
       "      <td>22.274899</td>\n",
       "    </tr>\n",
       "    <tr>\n",
       "      <th>496</th>\n",
       "      <td>32.893092</td>\n",
       "    </tr>\n",
       "    <tr>\n",
       "      <th>497</th>\n",
       "      <td>12.588157</td>\n",
       "    </tr>\n",
       "    <tr>\n",
       "      <th>498</th>\n",
       "      <td>22.362402</td>\n",
       "    </tr>\n",
       "    <tr>\n",
       "      <th>499</th>\n",
       "      <td>28.957736</td>\n",
       "    </tr>\n",
       "  </tbody>\n",
       "</table>\n",
       "<p>500 rows × 1 columns</p>\n",
       "</div>"
      ],
      "text/plain": [
       "     Temperature\n",
       "0      24.566884\n",
       "1      26.005191\n",
       "2      27.790554\n",
       "3      20.595335\n",
       "4      11.503498\n",
       "..           ...\n",
       "495    22.274899\n",
       "496    32.893092\n",
       "497    12.588157\n",
       "498    22.362402\n",
       "499    28.957736\n",
       "\n",
       "[500 rows x 1 columns]"
      ]
     },
     "execution_count": 26,
     "metadata": {},
     "output_type": "execute_result"
    }
   ],
   "source": [
    "X"
   ]
  },
  {
   "cell_type": "code",
   "execution_count": 27,
   "id": "98d44173",
   "metadata": {},
   "outputs": [],
   "source": [
    "Y = Icecream[['Revenue']]"
   ]
  },
  {
   "cell_type": "code",
   "execution_count": 28,
   "id": "b6ff0708",
   "metadata": {},
   "outputs": [
    {
     "data": {
      "text/html": [
       "<div>\n",
       "<style scoped>\n",
       "    .dataframe tbody tr th:only-of-type {\n",
       "        vertical-align: middle;\n",
       "    }\n",
       "\n",
       "    .dataframe tbody tr th {\n",
       "        vertical-align: top;\n",
       "    }\n",
       "\n",
       "    .dataframe thead th {\n",
       "        text-align: right;\n",
       "    }\n",
       "</style>\n",
       "<table border=\"1\" class=\"dataframe\">\n",
       "  <thead>\n",
       "    <tr style=\"text-align: right;\">\n",
       "      <th></th>\n",
       "      <th>Revenue</th>\n",
       "    </tr>\n",
       "  </thead>\n",
       "  <tbody>\n",
       "    <tr>\n",
       "      <th>0</th>\n",
       "      <td>534.799028</td>\n",
       "    </tr>\n",
       "    <tr>\n",
       "      <th>1</th>\n",
       "      <td>625.190122</td>\n",
       "    </tr>\n",
       "    <tr>\n",
       "      <th>2</th>\n",
       "      <td>660.632289</td>\n",
       "    </tr>\n",
       "    <tr>\n",
       "      <th>3</th>\n",
       "      <td>487.706960</td>\n",
       "    </tr>\n",
       "    <tr>\n",
       "      <th>4</th>\n",
       "      <td>316.240194</td>\n",
       "    </tr>\n",
       "    <tr>\n",
       "      <th>...</th>\n",
       "      <td>...</td>\n",
       "    </tr>\n",
       "    <tr>\n",
       "      <th>495</th>\n",
       "      <td>524.746364</td>\n",
       "    </tr>\n",
       "    <tr>\n",
       "      <th>496</th>\n",
       "      <td>755.818399</td>\n",
       "    </tr>\n",
       "    <tr>\n",
       "      <th>497</th>\n",
       "      <td>306.090719</td>\n",
       "    </tr>\n",
       "    <tr>\n",
       "      <th>498</th>\n",
       "      <td>566.217304</td>\n",
       "    </tr>\n",
       "    <tr>\n",
       "      <th>499</th>\n",
       "      <td>655.660388</td>\n",
       "    </tr>\n",
       "  </tbody>\n",
       "</table>\n",
       "<p>500 rows × 1 columns</p>\n",
       "</div>"
      ],
      "text/plain": [
       "        Revenue\n",
       "0    534.799028\n",
       "1    625.190122\n",
       "2    660.632289\n",
       "3    487.706960\n",
       "4    316.240194\n",
       "..          ...\n",
       "495  524.746364\n",
       "496  755.818399\n",
       "497  306.090719\n",
       "498  566.217304\n",
       "499  655.660388\n",
       "\n",
       "[500 rows x 1 columns]"
      ]
     },
     "execution_count": 28,
     "metadata": {},
     "output_type": "execute_result"
    }
   ],
   "source": [
    "Y"
   ]
  },
  {
   "cell_type": "code",
   "execution_count": 41,
   "id": "40408ad5",
   "metadata": {},
   "outputs": [],
   "source": [
    "# data preparation \n",
    "from sklearn.model_selection import train_test_split"
   ]
  },
  {
   "cell_type": "code",
   "execution_count": 42,
   "id": "4116dfe0",
   "metadata": {},
   "outputs": [],
   "source": [
    "X_train, X_test, y_train, y_test = train_test_split(X, Y, test_size=0.2, random_state=42) \n",
    "# train_test_split splits data into train data and test data\n",
    "# test_size specifies the test data and train data percentage (in our case 80% train data and 20% test data)\n",
    "# random_state is used to determine the random seed passed to the pseudo-random number generator"
   ]
  },
  {
   "cell_type": "code",
   "execution_count": 43,
   "id": "1d3fce2b",
   "metadata": {},
   "outputs": [
    {
     "data": {
      "text/html": [
       "<div>\n",
       "<style scoped>\n",
       "    .dataframe tbody tr th:only-of-type {\n",
       "        vertical-align: middle;\n",
       "    }\n",
       "\n",
       "    .dataframe tbody tr th {\n",
       "        vertical-align: top;\n",
       "    }\n",
       "\n",
       "    .dataframe thead th {\n",
       "        text-align: right;\n",
       "    }\n",
       "</style>\n",
       "<table border=\"1\" class=\"dataframe\">\n",
       "  <thead>\n",
       "    <tr style=\"text-align: right;\">\n",
       "      <th></th>\n",
       "      <th>Temperature</th>\n",
       "    </tr>\n",
       "  </thead>\n",
       "  <tbody>\n",
       "    <tr>\n",
       "      <th>249</th>\n",
       "      <td>18.148952</td>\n",
       "    </tr>\n",
       "    <tr>\n",
       "      <th>433</th>\n",
       "      <td>8.756004</td>\n",
       "    </tr>\n",
       "    <tr>\n",
       "      <th>19</th>\n",
       "      <td>21.775948</td>\n",
       "    </tr>\n",
       "    <tr>\n",
       "      <th>322</th>\n",
       "      <td>18.439982</td>\n",
       "    </tr>\n",
       "    <tr>\n",
       "      <th>332</th>\n",
       "      <td>15.843022</td>\n",
       "    </tr>\n",
       "    <tr>\n",
       "      <th>...</th>\n",
       "      <td>...</td>\n",
       "    </tr>\n",
       "    <tr>\n",
       "      <th>106</th>\n",
       "      <td>23.761436</td>\n",
       "    </tr>\n",
       "    <tr>\n",
       "      <th>270</th>\n",
       "      <td>24.628611</td>\n",
       "    </tr>\n",
       "    <tr>\n",
       "      <th>348</th>\n",
       "      <td>38.185199</td>\n",
       "    </tr>\n",
       "    <tr>\n",
       "      <th>435</th>\n",
       "      <td>15.916678</td>\n",
       "    </tr>\n",
       "    <tr>\n",
       "      <th>102</th>\n",
       "      <td>14.287196</td>\n",
       "    </tr>\n",
       "  </tbody>\n",
       "</table>\n",
       "<p>400 rows × 1 columns</p>\n",
       "</div>"
      ],
      "text/plain": [
       "     Temperature\n",
       "249    18.148952\n",
       "433     8.756004\n",
       "19     21.775948\n",
       "322    18.439982\n",
       "332    15.843022\n",
       "..           ...\n",
       "106    23.761436\n",
       "270    24.628611\n",
       "348    38.185199\n",
       "435    15.916678\n",
       "102    14.287196\n",
       "\n",
       "[400 rows x 1 columns]"
      ]
     },
     "execution_count": 43,
     "metadata": {},
     "output_type": "execute_result"
    }
   ],
   "source": [
    "X_train"
   ]
  },
  {
   "cell_type": "code",
   "execution_count": 44,
   "id": "65235cdb",
   "metadata": {
    "scrolled": true
   },
   "outputs": [
    {
     "data": {
      "text/html": [
       "<div>\n",
       "<style scoped>\n",
       "    .dataframe tbody tr th:only-of-type {\n",
       "        vertical-align: middle;\n",
       "    }\n",
       "\n",
       "    .dataframe tbody tr th {\n",
       "        vertical-align: top;\n",
       "    }\n",
       "\n",
       "    .dataframe thead th {\n",
       "        text-align: right;\n",
       "    }\n",
       "</style>\n",
       "<table border=\"1\" class=\"dataframe\">\n",
       "  <thead>\n",
       "    <tr style=\"text-align: right;\">\n",
       "      <th></th>\n",
       "      <th>Temperature</th>\n",
       "    </tr>\n",
       "  </thead>\n",
       "  <tbody>\n",
       "    <tr>\n",
       "      <th>361</th>\n",
       "      <td>29.704183</td>\n",
       "    </tr>\n",
       "    <tr>\n",
       "      <th>73</th>\n",
       "      <td>27.375401</td>\n",
       "    </tr>\n",
       "    <tr>\n",
       "      <th>374</th>\n",
       "      <td>23.984641</td>\n",
       "    </tr>\n",
       "    <tr>\n",
       "      <th>155</th>\n",
       "      <td>21.144047</td>\n",
       "    </tr>\n",
       "    <tr>\n",
       "      <th>104</th>\n",
       "      <td>26.595054</td>\n",
       "    </tr>\n",
       "    <tr>\n",
       "      <th>...</th>\n",
       "      <td>...</td>\n",
       "    </tr>\n",
       "    <tr>\n",
       "      <th>347</th>\n",
       "      <td>24.960446</td>\n",
       "    </tr>\n",
       "    <tr>\n",
       "      <th>86</th>\n",
       "      <td>27.780500</td>\n",
       "    </tr>\n",
       "    <tr>\n",
       "      <th>75</th>\n",
       "      <td>28.790101</td>\n",
       "    </tr>\n",
       "    <tr>\n",
       "      <th>438</th>\n",
       "      <td>17.132795</td>\n",
       "    </tr>\n",
       "    <tr>\n",
       "      <th>15</th>\n",
       "      <td>18.483141</td>\n",
       "    </tr>\n",
       "  </tbody>\n",
       "</table>\n",
       "<p>100 rows × 1 columns</p>\n",
       "</div>"
      ],
      "text/plain": [
       "     Temperature\n",
       "361    29.704183\n",
       "73     27.375401\n",
       "374    23.984641\n",
       "155    21.144047\n",
       "104    26.595054\n",
       "..           ...\n",
       "347    24.960446\n",
       "86     27.780500\n",
       "75     28.790101\n",
       "438    17.132795\n",
       "15     18.483141\n",
       "\n",
       "[100 rows x 1 columns]"
      ]
     },
     "execution_count": 44,
     "metadata": {},
     "output_type": "execute_result"
    }
   ],
   "source": [
    "X_test"
   ]
  },
  {
   "cell_type": "code",
   "execution_count": 45,
   "id": "7c843fe9",
   "metadata": {},
   "outputs": [
    {
     "data": {
      "text/plain": [
       "(400, 1)"
      ]
     },
     "execution_count": 45,
     "metadata": {},
     "output_type": "execute_result"
    }
   ],
   "source": [
    "X_train.shape"
   ]
  },
  {
   "cell_type": "code",
   "execution_count": 46,
   "id": "2ef6bba5",
   "metadata": {},
   "outputs": [
    {
     "data": {
      "text/plain": [
       "(400, 1)"
      ]
     },
     "execution_count": 46,
     "metadata": {},
     "output_type": "execute_result"
    }
   ],
   "source": [
    "y_train.shape\n",
    "# X_train and y_train should be the same"
   ]
  },
  {
   "cell_type": "code",
   "execution_count": 49,
   "id": "0fe7a467",
   "metadata": {},
   "outputs": [
    {
     "data": {
      "text/plain": [
       "LinearRegression()"
      ]
     },
     "execution_count": 49,
     "metadata": {},
     "output_type": "execute_result"
    }
   ],
   "source": [
    "# training the model\n",
    "from sklearn.linear_model import LinearRegression\n",
    "regressor = LinearRegression(fit_intercept = True) # fit_intercept = False sets the coefficient to 0 i.e line will pass through the origin\n",
    "regressor.fit(X_train, y_train)"
   ]
  },
  {
   "cell_type": "code",
   "execution_count": null,
   "id": "77828d51",
   "metadata": {},
   "outputs": [],
   "source": []
  },
  {
   "cell_type": "code",
   "execution_count": 50,
   "id": "07232373",
   "metadata": {
    "scrolled": true
   },
   "outputs": [
    {
     "name": "stdout",
     "output_type": "stream",
     "text": [
      "Linear Model Coefficient (m) [[21.38197386]]\n",
      "Linear Model Coefficient (b) [46.80464128]\n"
     ]
    }
   ],
   "source": [
    "print('Linear Model Coefficient (m)',regressor.coef_) # slope\n",
    "print('Linear Model Coefficient (b)',regressor.intercept_) # coefficient (y_intercept)"
   ]
  },
  {
   "cell_type": "code",
   "execution_count": null,
   "id": "d4e782c6",
   "metadata": {},
   "outputs": [],
   "source": []
  },
  {
   "cell_type": "code",
   "execution_count": 51,
   "id": "a0ec551b",
   "metadata": {},
   "outputs": [
    {
     "data": {
      "text/plain": [
       "(100, 1)"
      ]
     },
     "execution_count": 51,
     "metadata": {},
     "output_type": "execute_result"
    }
   ],
   "source": [
    "X_test.shape"
   ]
  },
  {
   "cell_type": "code",
   "execution_count": 79,
   "id": "41099026",
   "metadata": {},
   "outputs": [],
   "source": [
    "# Testing the model after training using the X_test data which was not used during the traing\n",
    "y_predict = regressor.predict(X_test)\n"
   ]
  },
  {
   "cell_type": "code",
   "execution_count": 80,
   "id": "391111a8",
   "metadata": {},
   "outputs": [
    {
     "data": {
      "text/plain": [
       "array([[681.93870622],\n",
       "       [632.14474995],\n",
       "       [559.64360486],\n",
       "       [498.90609993],\n",
       "       [615.45939165],\n",
       "       [304.72417213],\n",
       "       [285.79420948],\n",
       "       [315.60842003],\n",
       "       [506.26427154],\n",
       "       [685.69744019],\n",
       "       [723.96030494],\n",
       "       [400.84625166],\n",
       "       [431.61634142],\n",
       "       [671.36600031],\n",
       "       [ 52.51422053],\n",
       "       [198.77682819],\n",
       "       [523.08595488],\n",
       "       [563.90495549],\n",
       "       [583.83579144],\n",
       "       [682.24517768],\n",
       "       [556.2285085 ],\n",
       "       [783.88766163],\n",
       "       [655.44109362],\n",
       "       [570.0735459 ],\n",
       "       [912.21841974],\n",
       "       [664.74778505],\n",
       "       [315.96428407],\n",
       "       [631.00983241],\n",
       "       [731.1169322 ],\n",
       "       [698.02984963],\n",
       "       [435.08453949],\n",
       "       [471.22058847],\n",
       "       [710.29440571],\n",
       "       [799.81874771],\n",
       "       [641.02153776],\n",
       "       [493.66044553],\n",
       "       [744.9247237 ],\n",
       "       [318.10831232],\n",
       "       [262.69083171],\n",
       "       [132.04437543],\n",
       "       [582.55738268],\n",
       "       [230.41054193],\n",
       "       [547.29799783],\n",
       "       [393.00654153],\n",
       "       [436.66704225],\n",
       "       [593.02780835],\n",
       "       [572.09312165],\n",
       "       [125.16251036],\n",
       "       [474.79444877],\n",
       "       [530.45025905],\n",
       "       [623.19251713],\n",
       "       [503.4813544 ],\n",
       "       [484.60103791],\n",
       "       [498.58705266],\n",
       "       [551.22738648],\n",
       "       [630.80646076],\n",
       "       [573.12703075],\n",
       "       [679.486141  ],\n",
       "       [171.29759926],\n",
       "       [660.49458416],\n",
       "       [583.75017395],\n",
       "       [704.57274239],\n",
       "       [535.82240023],\n",
       "       [630.12763484],\n",
       "       [676.79854535],\n",
       "       [411.36168509],\n",
       "       [508.88286115],\n",
       "       [494.71237942],\n",
       "       [731.12113825],\n",
       "       [312.64970607],\n",
       "       [318.45658383],\n",
       "       [454.48599433],\n",
       "       [795.88908859],\n",
       "       [424.3427197 ],\n",
       "       [520.47071347],\n",
       "       [688.86698747],\n",
       "       [804.96958246],\n",
       "       [448.21981638],\n",
       "       [493.70018478],\n",
       "       [493.61560689],\n",
       "       [546.05307987],\n",
       "       [520.86863586],\n",
       "       [663.24179618],\n",
       "       [547.66983485],\n",
       "       [589.3531778 ],\n",
       "       [697.41089087],\n",
       "       [239.06622088],\n",
       "       [626.63543807],\n",
       "       [585.44702174],\n",
       "       [768.32242947],\n",
       "       [428.92615255],\n",
       "       [522.0216248 ],\n",
       "       [610.64187899],\n",
       "       [353.88023698],\n",
       "       [562.40093312],\n",
       "       [580.5082378 ],\n",
       "       [640.80655591],\n",
       "       [662.39383884],\n",
       "       [413.13762416],\n",
       "       [442.01067869]])"
      ]
     },
     "execution_count": 80,
     "metadata": {},
     "output_type": "execute_result"
    }
   ],
   "source": [
    "y_predict"
   ]
  },
  {
   "cell_type": "code",
   "execution_count": 114,
   "id": "f2a29762",
   "metadata": {},
   "outputs": [
    {
     "data": {
      "text/plain": [
       "Text(0.5, 1.0, 'Revenue Generated vs Temperature @Ice Cream Business (Training Dataset)')"
      ]
     },
     "execution_count": 114,
     "metadata": {},
     "output_type": "execute_result"
    },
    {
     "data": {
      "image/png": "[encoded data removed]",
      "text/plain": [
       "<Figure size 432x288 with 1 Axes>"
      ]
     },
     "metadata": {
      "needs_background": "light"
     },
     "output_type": "display_data"
    }
   ],
   "source": [
    "plt.scatter(X_test, y_predict, color='blue')\n",
    "plt.ylabel('Revenue [Dollars]')\n",
    "plt.xlabel('Temperarure[DegC]')\n",
    "plt.title('Revenue Generated vs Temperature @Ice Cream Business (Test dataset vs prediction Dataset output)')"
   ]
  },
  {
   "cell_type": "code",
   "execution_count": 81,
   "id": "e80bbdcc",
   "metadata": {
    "scrolled": true
   },
   "outputs": [
    {
     "data": {
      "text/html": [
       "<div>\n",
       "<style scoped>\n",
       "    .dataframe tbody tr th:only-of-type {\n",
       "        vertical-align: middle;\n",
       "    }\n",
       "\n",
       "    .dataframe tbody tr th {\n",
       "        vertical-align: top;\n",
       "    }\n",
       "\n",
       "    .dataframe thead th {\n",
       "        text-align: right;\n",
       "    }\n",
       "</style>\n",
       "<table border=\"1\" class=\"dataframe\">\n",
       "  <thead>\n",
       "    <tr style=\"text-align: right;\">\n",
       "      <th></th>\n",
       "      <th>Revenue</th>\n",
       "    </tr>\n",
       "  </thead>\n",
       "  <tbody>\n",
       "    <tr>\n",
       "      <th>361</th>\n",
       "      <td>659.873287</td>\n",
       "    </tr>\n",
       "    <tr>\n",
       "      <th>73</th>\n",
       "      <td>623.248701</td>\n",
       "    </tr>\n",
       "    <tr>\n",
       "      <th>374</th>\n",
       "      <td>559.135869</td>\n",
       "    </tr>\n",
       "    <tr>\n",
       "      <th>155</th>\n",
       "      <td>497.752318</td>\n",
       "    </tr>\n",
       "    <tr>\n",
       "      <th>104</th>\n",
       "      <td>627.901841</td>\n",
       "    </tr>\n",
       "    <tr>\n",
       "      <th>...</th>\n",
       "      <td>...</td>\n",
       "    </tr>\n",
       "    <tr>\n",
       "      <th>347</th>\n",
       "      <td>564.310532</td>\n",
       "    </tr>\n",
       "    <tr>\n",
       "      <th>86</th>\n",
       "      <td>643.944327</td>\n",
       "    </tr>\n",
       "    <tr>\n",
       "      <th>75</th>\n",
       "      <td>653.986736</td>\n",
       "    </tr>\n",
       "    <tr>\n",
       "      <th>438</th>\n",
       "      <td>412.082357</td>\n",
       "    </tr>\n",
       "    <tr>\n",
       "      <th>15</th>\n",
       "      <td>469.909033</td>\n",
       "    </tr>\n",
       "  </tbody>\n",
       "</table>\n",
       "<p>100 rows × 1 columns</p>\n",
       "</div>"
      ],
      "text/plain": [
       "        Revenue\n",
       "361  659.873287\n",
       "73   623.248701\n",
       "374  559.135869\n",
       "155  497.752318\n",
       "104  627.901841\n",
       "..          ...\n",
       "347  564.310532\n",
       "86   643.944327\n",
       "75   653.986736\n",
       "438  412.082357\n",
       "15   469.909033\n",
       "\n",
       "[100 rows x 1 columns]"
      ]
     },
     "execution_count": 81,
     "metadata": {},
     "output_type": "execute_result"
    }
   ],
   "source": [
    "y_test"
   ]
  },
  {
   "cell_type": "code",
   "execution_count": 82,
   "id": "d8971113",
   "metadata": {},
   "outputs": [
    {
     "data": {
      "text/plain": [
       "Text(0.5, 1.0, 'Revenue Generated vs Temperature @Ice Cream Business (Training Dataset)')"
      ]
     },
     "execution_count": 82,
     "metadata": {},
     "output_type": "execute_result"
    },
    {
     "data": {
      "image/png": "[encoded data removed]",
      "text/plain": [
       "<Figure size 432x288 with 1 Axes>"
      ]
     },
     "metadata": {
      "needs_background": "light"
     },
     "output_type": "display_data"
    }
   ],
   "source": [
    "# Data Visualization\n",
    "#predict_x = regressor.predict(X_train)\n",
    "plt.scatter(X_train, y_train, color='blue')\n",
    "plt.scatter(X_train, regressor.predict(X_train), color = 'red')\n",
    "plt.ylabel('Revenue [Dollars]')\n",
    "plt.xlabel('Temperarure[DegC]')\n",
    "plt.title('Revenue Generated vs Temperature @Ice Cream Business (Training Dataset)')"
   ]
  },
  {
   "cell_type": "code",
   "execution_count": 83,
   "id": "89967dee",
   "metadata": {},
   "outputs": [
    {
     "data": {
      "text/plain": [
       "Text(0.5, 1.0, 'Revenue Generated vs Temperature @Ice Cream Business (Testing Dataset)')"
      ]
     },
     "execution_count": 83,
     "metadata": {},
     "output_type": "execute_result"
    },
    {
     "data": {
      "image/png": "[encoded data removed]",
      "text/plain": [
       "<Figure size 432x288 with 1 Axes>"
      ]
     },
     "metadata": {
      "needs_background": "light"
     },
     "output_type": "display_data"
    }
   ],
   "source": [
    "plt.scatter(X_test, y_test, color='skyblue')\n",
    "plt.scatter(X_test, regressor.predict(X_test), color = 'black')\n",
    "plt.ylabel('Revenue [Dollars]')\n",
    "plt.xlabel('Temperarure[DegC]')\n",
    "plt.title('Revenue Generated vs Temperature @Ice Cream Business (Testing Dataset)')"
   ]
  },
  {
   "cell_type": "code",
   "execution_count": 112,
   "id": "b03e3f64",
   "metadata": {},
   "outputs": [
    {
     "name": "stderr",
     "output_type": "stream",
     "text": [
      "C:\\ProgramData\\Anaconda3\\lib\\site-packages\\sklearn\\base.py:450: UserWarning: X does not have valid feature names, but LinearRegression was fitted with feature names\n",
      "  warnings.warn(\n"
     ]
    }
   ],
   "source": [
    "# prediction testing\n",
    "T = [[35]]\n",
    "revenue = regressor.predict(T)\n",
    "\n",
    "\n"
   ]
  },
  {
   "cell_type": "code",
   "execution_count": 113,
   "id": "57315dcb",
   "metadata": {
    "scrolled": true
   },
   "outputs": [
    {
     "data": {
      "text/plain": [
       "array([[795.17372621]])"
      ]
     },
     "execution_count": 113,
     "metadata": {},
     "output_type": "execute_result"
    }
   ],
   "source": [
    "revenue"
   ]
  },
  {
   "cell_type": "code",
   "execution_count": 115,
   "id": "aadb8049",
   "metadata": {},
   "outputs": [],
   "source": [
    "import csv\n"
   ]
  },
  {
   "cell_type": "code",
   "execution_count": 116,
   "id": "bd881de9",
   "metadata": {},
   "outputs": [],
   "source": [
    "header = ['Test Temperature', 'Revenue Prediction']"
   ]
  },
  {
   "cell_type": "code",
   "execution_count": 127,
   "id": "cc0536ad",
   "metadata": {},
   "outputs": [],
   "source": [
    "data = [X_test, y_predict]\n"
   ]
  },
  {
   "cell_type": "code",
   "execution_count": 135,
   "id": "48b0bf25",
   "metadata": {
    "scrolled": true
   },
   "outputs": [],
   "source": [
    "revenue_prediction = pd.DataFrame(y_predict, columns=['Revenue Prediction']).to_csv('prediction.csv')"
   ]
  },
  {
   "cell_type": "code",
   "execution_count": 122,
   "id": "4998df7e",
   "metadata": {},
   "outputs": [
    {
     "data": {
      "text/plain": [
       "array([[681.93870622],\n",
       "       [632.14474995],\n",
       "       [559.64360486],\n",
       "       [498.90609993],\n",
       "       [615.45939165],\n",
       "       [304.72417213],\n",
       "       [285.79420948],\n",
       "       [315.60842003],\n",
       "       [506.26427154],\n",
       "       [685.69744019],\n",
       "       [723.96030494],\n",
       "       [400.84625166],\n",
       "       [431.61634142],\n",
       "       [671.36600031],\n",
       "       [ 52.51422053],\n",
       "       [198.77682819],\n",
       "       [523.08595488],\n",
       "       [563.90495549],\n",
       "       [583.83579144],\n",
       "       [682.24517768],\n",
       "       [556.2285085 ],\n",
       "       [783.88766163],\n",
       "       [655.44109362],\n",
       "       [570.0735459 ],\n",
       "       [912.21841974],\n",
       "       [664.74778505],\n",
       "       [315.96428407],\n",
       "       [631.00983241],\n",
       "       [731.1169322 ],\n",
       "       [698.02984963],\n",
       "       [435.08453949],\n",
       "       [471.22058847],\n",
       "       [710.29440571],\n",
       "       [799.81874771],\n",
       "       [641.02153776],\n",
       "       [493.66044553],\n",
       "       [744.9247237 ],\n",
       "       [318.10831232],\n",
       "       [262.69083171],\n",
       "       [132.04437543],\n",
       "       [582.55738268],\n",
       "       [230.41054193],\n",
       "       [547.29799783],\n",
       "       [393.00654153],\n",
       "       [436.66704225],\n",
       "       [593.02780835],\n",
       "       [572.09312165],\n",
       "       [125.16251036],\n",
       "       [474.79444877],\n",
       "       [530.45025905],\n",
       "       [623.19251713],\n",
       "       [503.4813544 ],\n",
       "       [484.60103791],\n",
       "       [498.58705266],\n",
       "       [551.22738648],\n",
       "       [630.80646076],\n",
       "       [573.12703075],\n",
       "       [679.486141  ],\n",
       "       [171.29759926],\n",
       "       [660.49458416],\n",
       "       [583.75017395],\n",
       "       [704.57274239],\n",
       "       [535.82240023],\n",
       "       [630.12763484],\n",
       "       [676.79854535],\n",
       "       [411.36168509],\n",
       "       [508.88286115],\n",
       "       [494.71237942],\n",
       "       [731.12113825],\n",
       "       [312.64970607],\n",
       "       [318.45658383],\n",
       "       [454.48599433],\n",
       "       [795.88908859],\n",
       "       [424.3427197 ],\n",
       "       [520.47071347],\n",
       "       [688.86698747],\n",
       "       [804.96958246],\n",
       "       [448.21981638],\n",
       "       [493.70018478],\n",
       "       [493.61560689],\n",
       "       [546.05307987],\n",
       "       [520.86863586],\n",
       "       [663.24179618],\n",
       "       [547.66983485],\n",
       "       [589.3531778 ],\n",
       "       [697.41089087],\n",
       "       [239.06622088],\n",
       "       [626.63543807],\n",
       "       [585.44702174],\n",
       "       [768.32242947],\n",
       "       [428.92615255],\n",
       "       [522.0216248 ],\n",
       "       [610.64187899],\n",
       "       [353.88023698],\n",
       "       [562.40093312],\n",
       "       [580.5082378 ],\n",
       "       [640.80655591],\n",
       "       [662.39383884],\n",
       "       [413.13762416],\n",
       "       [442.01067869]])"
      ]
     },
     "execution_count": 122,
     "metadata": {},
     "output_type": "execute_result"
    }
   ],
   "source": [
    "y_predict"
   ]
  },
  {
   "cell_type": "code",
   "execution_count": 136,
   "id": "6ffd3464",
   "metadata": {},
   "outputs": [],
   "source": [
    "test_temperature = pd.DataFrame(X_test, columns=['Test Temperature']).to_csv('test_temp.csv')"
   ]
  },
  {
   "cell_type": "code",
   "execution_count": 137,
   "id": "2092917f",
   "metadata": {},
   "outputs": [],
   "source": [
    "a = pd.read_csv(\"revenue.csv\")"
   ]
  },
  {
   "cell_type": "code",
   "execution_count": 140,
   "id": "87321784",
   "metadata": {},
   "outputs": [],
   "source": [
    "b = pd.read_csv(\"test_temp.csv\")"
   ]
  },
  {
   "cell_type": "code",
   "execution_count": null,
   "id": "eb5c7d0a",
   "metadata": {},
   "outputs": [],
   "source": [
    "\n"
   ]
  },
  {
   "cell_type": "code",
   "execution_count": null,
   "id": "19d969f1",
   "metadata": {},
   "outputs": [],
   "source": []
  }
 ],
 "metadata": {
  "kernelspec": {
   "display_name": "Python 3.9.2 64-bit",
   "language": "python",
   "name": "python3"
  },
  "language_info": {
   "codemirror_mode": {
    "name": "ipython",
    "version": 3
   },
   "file_extension": ".py",
   "mimetype": "text/x-python",
   "name": "python",
   "nbconvert_exporter": "python",
   "pygments_lexer": "ipython3",
   "version": "3.9.2"
  },
  "vscode": {
   "interpreter": {
    "hash": "916dbcbb3f70747c44a77c7bcd40155683ae19c65e1c03b4aa3499c5328201f1"
   }
  }
 },
 "nbformat": 4,
 "nbformat_minor": 5
}
